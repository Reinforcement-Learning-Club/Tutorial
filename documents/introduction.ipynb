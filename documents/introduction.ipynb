{
 "cells": [
  {
   "cell_type": "markdown",
   "metadata": {},
   "source": [
    "# Introduction to Reinforcement Learning"
   ]
  },
  {
   "cell_type": "markdown",
   "metadata": {},
   "source": [
    "이 문서는 강화학습의 기초적인 개념을 배우는 것에 목적이 있다.\n",
    "우리 목표는 python 프로그래밍을 통해 강화학습에서 사용되는 여러 수식과 학습 과정을 이해하는 것이다.\n",
    "프로그래밍을 통한 학습은 수학적 표현을 직관적으로 이해하는데 도움을 주며 프로그래밍 스킬을 향상시킬 수 있는 장점을 가진다.\n"
   ]
  },
  {
   "cell_type": "markdown",
   "metadata": {},
   "source": [
    "우리는 먼저 강화학습 시스템의 구성 요소에 대해 파악한다.\n",
    "- Agent : agent는 누적 보상 (reward)을 최대화하기 위해 환경 (environment)과 상호작용하는 주체를 말한다.\n",
    "- Environment : environment는 agent가 살고 있는 공간을 말하며 agent가 행동 (act)을 하기 위한 무언가를 제공해준다.\n",
    "- policy : policy는 주어진 시간에서 agent의 행동 방법을 정의한다. 즉, policy는 환경의 인지된 상태 (state)를 해당 상태에서 행해야 하는 행동으로 매핑하는 것이다.\n",
    "- reward : reward는 각 타임스텝마다 agent로 보내는 어떠한 단일 값이다. reward는 특정 행동을 행했을 때의 효과를 측정한다.\n",
    "- reward signal : reward signal은 강화학습문제에서의 목표를 결정한다. 즉, agent에 대해 좋은 사건과 좋지 않은 사건을 정의한다.\n",
    "- value of a state : reward의 총량으로 해당 상태에서부터 미래까지 누적 될거라 예상되는 총 보상이다.\n"
   ]
  },
  {
   "cell_type": "markdown",
   "metadata": {},
   "source": [
    "### 1. Multi-armed Bandits"
   ]
  }
 ],
 "metadata": {
  "kernelspec": {
   "display_name": "Python 3.9.13 ('py39')",
   "language": "python",
   "name": "python3"
  },
  "language_info": {
   "codemirror_mode": {
    "name": "ipython",
    "version": 3
   },
   "file_extension": ".py",
   "mimetype": "text/x-python",
   "name": "python",
   "nbconvert_exporter": "python",
   "pygments_lexer": "ipython3",
   "version": "3.9.13"
  },
  "orig_nbformat": 4,
  "vscode": {
   "interpreter": {
    "hash": "a669543d128136374604d475fcc3fcd86e86a01fbaf91712b5afc1f582eb2f6e"
   }
  }
 },
 "nbformat": 4,
 "nbformat_minor": 2
}
